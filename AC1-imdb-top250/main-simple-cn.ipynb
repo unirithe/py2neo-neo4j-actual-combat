{
 "cells": [
  {
   "cell_type": "code",
   "execution_count": 68,
   "metadata": {},
   "outputs": [
    {
     "name": "stdout",
     "output_type": "stream",
     "text": [
      "--------------------------------------------------\n",
      "查询 movie 电影节点的统计结果:  62\n",
      "查询 actor 演员节点的统计结果:  240\n",
      "查询 acted 扮演关系的统计结果:  91\n"
     ]
    }
   ],
   "source": [
    "import pandas as pd \n",
    "from py2neo import Graph, Node, Subgraph, NodeMatcher,Relationship, RelationshipMatcher\n",
    "'''\n",
    "    加载数据集\n",
    "'''\n",
    "def load_data() -> dict[str:pd.DataFrame]:\n",
    "    df_actor_movie = pd.read_csv('./dataset/movie_act.csv')\n",
    "    df_actor = pd.read_csv('./dataset/movie_actor.csv')\n",
    "    df_movie = pd.read_csv('./dataset/movie_movie.csv')\n",
    "    df_popularity = pd.read_csv('./dataset/movie_popularity.csv')\n",
    "    df_user = pd.read_csv('./dataset/user_user.csv')\n",
    "\n",
    "    return {\n",
    "        'actor_movie' : df_actor_movie,\n",
    "        'actor': df_actor,\n",
    "        'movie': df_movie,\n",
    "        'popularity': df_popularity,\n",
    "        'user': df_user\n",
    "    }\n",
    "df = load_data()\n",
    "\n",
    "\n",
    "dict_movie = {}\n",
    "dict_actor = {}\n",
    "dict_actor_movie = {}\n",
    "\n",
    "'''\n",
    "    将数据集的电影、演员和演员->电影的映射关系数据转化为字典\n",
    "'''\n",
    "# 获取受欢迎的电影ID\n",
    "list_popularity_movie = list(df['popularity']['movieid_id'])\n",
    "\n",
    "# 电影转成字典\n",
    "for i in range(len(df['movie'])):\n",
    "    row = df['movie'].iloc[i]\n",
    "    if(row['movieid'] in list_popularity_movie):    # 只选择受欢迎的\n",
    "        dict_movie.update({row['movieid'] : row.to_dict()})\n",
    "# 获取受欢迎电影的所有演员\n",
    "filter = df['actor_movie']['movieid_id'].isin(list_popularity_movie)\n",
    "list_popularity_actor =  list(df['actor_movie']['actorid_id'][filter])\n",
    "# 演员转成字典\n",
    "for i in range(len(df['actor'])):\n",
    "    row = df['actor'].iloc[i]                      \n",
    "    if(row['actorid'] in list_popularity_actor):# 只选择受欢迎的\n",
    "        dict_actor.update({row['actorid'] : row.to_dict()})\n",
    "# 演员->电影的映射转成字典\n",
    "for i in range(len(df['actor_movie'])):\n",
    "    row = df['actor_movie'].iloc[i]                 \n",
    "    dict_actor_movie.update({row['actorid_id'] : row.to_dict()})\n",
    "url = \"http://localhost:7474\"\n",
    "username = 'neo4j'\n",
    "password = '123456'\n",
    "''''\n",
    "    连接Neo4j 将字典型的数据插入到Neo4j\n",
    "'''\n",
    "# 插入到Neo4j \n",
    "graph = Graph(url, auth=(username, password))\n",
    "# 清空数据库\n",
    "graph.delete_all()\n",
    "############## 批量创建电影节点\n",
    "\n",
    "nodes = []\n",
    "for mid, node_movie in dict_movie.items():\n",
    "    nodes.append(Node('movie', **node_movie))\n",
    "############## 批量创建演员节点\n",
    "for aid, node_actor in dict_actor.items():\n",
    "    nodes.append(Node('actor', **node_actor))\n",
    "## 使用 Subject 子图插入节点(每批次插入50)\n",
    "batch_size = 50\n",
    "for i in range(0, len(nodes), batch_size):\n",
    "    graph.create(Subgraph(nodes=nodes[i: i+batch_size]))\n",
    "################# 批量创建关系\n",
    "rels = []\n",
    "# 定义查找节点的匹配器\n",
    "nodeMatcher = NodeMatcher(graph)\n",
    "# 遍历演员->电影映射数据\n",
    "for aid, node_actor_movie in dict_actor_movie.items():\n",
    "    \n",
    "    mid = node_actor_movie['movieid_id']\n",
    "    # 查找关系的电影节点和演员节点\n",
    "    node_movie = nodeMatcher.match('movie', movieid = mid).first()\n",
    "    node_actor = nodeMatcher.match('actor', actorid = aid).first()\n",
    "    # 建立关系\n",
    "    if node_movie != None and node_actor != None:\n",
    "        rels.append(Relationship(node_actor, 'acted', node_movie,name='acted'))\n",
    "## 最后使用Subjecgt子图插入关系(每批次插入50)\n",
    "batch_size = 50\n",
    "for i in range(0, len(rels), batch_size):\n",
    "    graph.create(Subgraph(relationships=rels[i:i+batch_size]))\n",
    "print('-' * 50)\n",
    "\n",
    "rm = RelationshipMatcher(graph)\n",
    "print('查询 movie 电影节点的统计结果: ', nodeMatcher.match('movie').count())\n",
    "print('查询 actor 演员节点的统计结果: ', nodeMatcher.match('actor').count())\n",
    "print('查询 acted 扮演关系的统计结果: ', rm.match(name='acted').count())"
   ]
  },
  {
   "cell_type": "code",
   "execution_count": 69,
   "metadata": {},
   "outputs": [
    {
     "name": "stdout",
     "output_type": "stream",
     "text": [
      "删除不包含演员信息的电影统计:  24\n"
     ]
    }
   ],
   "source": [
    "'''\n",
    "    删除不包含演员信息的电影\n",
    "'''\n",
    "i = 0\n",
    "for node in nodeMatcher.match('movie').all():\n",
    "    if(rm.match([None, node], 'acted').count() == 0):\n",
    "        i += 1\n",
    "        graph.delete(node)\n",
    "print('删除不包含演员信息的电影统计: ', i)"
   ]
  },
  {
   "cell_type": "code",
   "execution_count": 70,
   "metadata": {},
   "outputs": [
    {
     "name": "stdout",
     "output_type": "stream",
     "text": [
      "删除没有扮演电影信息的演员:  149\n"
     ]
    }
   ],
   "source": [
    "'''\n",
    "    删除没有扮演电影信息的演员【可能是数据的缺失导致的】\n",
    "'''\n",
    "i = 0\n",
    "for node in nodeMatcher.match('actor').all():\n",
    "    if(rm.match([node, None], 'acted').count() == 0):\n",
    "        i += 1\n",
    "        graph.delete(node)\n",
    "print('删除没有扮演电影信息的演员: ', i)"
   ]
  },
  {
   "cell_type": "code",
   "execution_count": 71,
   "metadata": {},
   "outputs": [
    {
     "name": "stdout",
     "output_type": "stream",
     "text": [
      "movie 电影节点:  38\n",
      "actor 演员节点:  91\n",
      "acted 扮演关系:  91\n"
     ]
    }
   ],
   "source": [
    "print('movie 电影节点: ', nodeMatcher.match('movie').count())\n",
    "print('actor 演员节点: ', nodeMatcher.match('actor').count())\n",
    "print('acted 扮演关系: ', rm.match(name='acted').count())"
   ]
  },
  {
   "cell_type": "code",
   "execution_count": 78,
   "metadata": {},
   "outputs": [
    {
     "name": "stdout",
     "output_type": "stream",
     "text": [
      " 查找受欢迎电影中包含演员最多的电影 Top 3\n",
      "电影编号:tt0118480 电影名称: Stargate SG-1 出现演员: 5\n",
      "电影编号:tt0110912 电影名称: Pulp Fiction 出现演员: 5\n",
      "电影编号:tt1068678 电影名称: Veronika Decides to Die 出现演员: 5\n"
     ]
    }
   ],
   "source": [
    "'''\n",
    "    查找包含演员最多的电影 Top 3\n",
    "'''\n",
    "\n",
    "dict_movies = {}\n",
    "for node in nodeMatcher.match('movie'):\n",
    "    nodes_actors = rm.match([None, node], name='acted').all()\n",
    "    dict_movies.update({node:{\n",
    "        'node_movie' : node,\n",
    "        'count': len(nodes_actors),\n",
    "        'actors': nodes_actors\n",
    "    }})\n",
    "# 对字典进行降序排序, 结果为元组\n",
    "\n",
    "top3 = sorted(dict_movies.items(), key=lambda x : x[1]['count'], reverse=True)[:3]\n",
    "\n",
    "print(' 查找受欢迎电影中包含演员最多的电影 Top 3')\n",
    "for node in top3:\n",
    "    print(f\"电影编号:{node[0]['movieid']} 电影名称: {node[0]['name']} 出现演员: {node[1]['count']}\")"
   ]
  },
  {
   "cell_type": "code",
   "execution_count": null,
   "metadata": {},
   "outputs": [],
   "source": []
  }
 ],
 "metadata": {
  "interpreter": {
   "hash": "5332dda23e929b2fdb3793caa38ce15b54fc31b9110c0abaa6a7ec88307e4dae"
  },
  "kernelspec": {
   "display_name": "Python 3.9.7 ('base')",
   "language": "python",
   "name": "python3"
  },
  "language_info": {
   "codemirror_mode": {
    "name": "ipython",
    "version": 3
   },
   "file_extension": ".py",
   "mimetype": "text/x-python",
   "name": "python",
   "nbconvert_exporter": "python",
   "pygments_lexer": "ipython3",
   "version": "3.9.7"
  },
  "orig_nbformat": 4
 },
 "nbformat": 4,
 "nbformat_minor": 2
}
