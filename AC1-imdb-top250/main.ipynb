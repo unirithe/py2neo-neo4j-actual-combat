{
 "cells": [
  {
   "cell_type": "markdown",
   "metadata": {},
   "source": [
    "# 1. 加载数据集 Load Data"
   ]
  },
  {
   "cell_type": "markdown",
   "metadata": {},
   "source": [
    "**IMBD [From Wikipedia]**\n",
    "\n",
    "> IMDB是世界上最受欢迎、最权威的电影、电视和名人内容来源。探索热门电影和电视节目、娱乐新闻以及最新的奖项和活动。使用观察列表跟踪你想看的内容，并对你看过的电影和节目进行评分。观看视频–包括独家IMDb原创、预告片、幕后剪辑等。\n",
    "\n",
    "> IMDb is the world's most popular and authoritative source for movie, TV, and celebrity content. Explore popular movies and TV shows, entertainment news, and the latest awards and events. Track what you want to watch using your Watchlist, and rate movies and shows you've seen. Watch video – including exclusive IMDb Originals, trailers, behind-the-scenes clips, and more. \n",
    "\n",
    "**IMBD Data**\n",
    "- movie_act.csv        演员id到电影id的映射信息\n",
    "- movie_actor.csv      5334个演员的信息，名称和头像\n",
    "- movie_moive.csv      2926部电影的详情信息\n",
    "- movie_popularity.csv 保留着62部受欢迎的电影信息\n",
    "- user_user.csv  不知道有啥用的id信息   \n",
    "\n",
    "`提示：这个数据集并不完整，但是确实是从IMBD上获取下来的，经供参考`\n",
    "\n",
    "- movie_act.csv        Mapping information from actor ID to movie ID\n",
    "- movie_actor.csv      Information, names and avatars of 5334 actors\n",
    "- movie_moive.csv      Details of 2926 films\n",
    "- movie_popularity.csv Information on 62 popular films is retained\n",
    "- user_user.csv  I don't know what kind of ID information to use   \n",
    "\n",
    "`Tip: this data set is not complete, but it is indeed obtained from IMBD for reference`"
   ]
  },
  {
   "cell_type": "code",
   "execution_count": 2,
   "metadata": {},
   "outputs": [],
   "source": [
    "import pandas as pd \n",
    "\n",
    "'''\n",
    "    加载数据集\n",
    "'''\n",
    "def load_data() -> dict[str:pd.DataFrame]:\n",
    "    df_actor_movie = pd.read_csv('./dataset/movie_act.csv')\n",
    "    df_actor = pd.read_csv('./dataset/movie_actor.csv')\n",
    "    df_movie = pd.read_csv('./dataset/movie_movie.csv')\n",
    "    df_popularity = pd.read_csv('./dataset/movie_popularity.csv')\n",
    "    df_user = pd.read_csv('./dataset/user_user.csv')\n",
    "    return {\n",
    "        'actor_movie' : df_actor_movie,\n",
    "        'actor': df_actor,\n",
    "        'movie': df_movie,\n",
    "        'popularity': df_popularity,\n",
    "        'user': df_user\n",
    "    }\n",
    "df = load_data()"
   ]
  },
  {
   "cell_type": "markdown",
   "metadata": {},
   "source": [
    "## 1.1 movie_act.csv"
   ]
  },
  {
   "cell_type": "code",
   "execution_count": 3,
   "metadata": {},
   "outputs": [
    {
     "name": "stdout",
     "output_type": "stream",
     "text": [
      "rows: 13701\n"
     ]
    },
    {
     "data": {
      "text/html": [
       "<div>\n",
       "<style scoped>\n",
       "    .dataframe tbody tr th:only-of-type {\n",
       "        vertical-align: middle;\n",
       "    }\n",
       "\n",
       "    .dataframe tbody tr th {\n",
       "        vertical-align: top;\n",
       "    }\n",
       "\n",
       "    .dataframe thead th {\n",
       "        text-align: right;\n",
       "    }\n",
       "</style>\n",
       "<table border=\"1\" class=\"dataframe\">\n",
       "  <thead>\n",
       "    <tr style=\"text-align: right;\">\n",
       "      <th></th>\n",
       "      <th>id</th>\n",
       "      <th>actorid_id</th>\n",
       "      <th>movieid_id</th>\n",
       "    </tr>\n",
       "  </thead>\n",
       "  <tbody>\n",
       "    <tr>\n",
       "      <th>0</th>\n",
       "      <td>7605</td>\n",
       "      <td>nm0941777</td>\n",
       "      <td>tt0499549</td>\n",
       "    </tr>\n",
       "    <tr>\n",
       "      <th>1</th>\n",
       "      <td>7606</td>\n",
       "      <td>nm0757855</td>\n",
       "      <td>tt0499549</td>\n",
       "    </tr>\n",
       "    <tr>\n",
       "      <th>2</th>\n",
       "      <td>7607</td>\n",
       "      <td>nm0000244</td>\n",
       "      <td>tt0499549</td>\n",
       "    </tr>\n",
       "    <tr>\n",
       "      <th>3</th>\n",
       "      <td>7608</td>\n",
       "      <td>nm0002332</td>\n",
       "      <td>tt0499549</td>\n",
       "    </tr>\n",
       "    <tr>\n",
       "      <th>4</th>\n",
       "      <td>7609</td>\n",
       "      <td>nm0735442</td>\n",
       "      <td>tt0499549</td>\n",
       "    </tr>\n",
       "  </tbody>\n",
       "</table>\n",
       "</div>"
      ],
      "text/plain": [
       "     id actorid_id movieid_id\n",
       "0  7605  nm0941777  tt0499549\n",
       "1  7606  nm0757855  tt0499549\n",
       "2  7607  nm0000244  tt0499549\n",
       "3  7608  nm0002332  tt0499549\n",
       "4  7609  nm0735442  tt0499549"
      ]
     },
     "execution_count": 3,
     "metadata": {},
     "output_type": "execute_result"
    }
   ],
   "source": [
    "print('rows:',len(df['actor_movie']))\n",
    "df['actor_movie'].head()"
   ]
  },
  {
   "cell_type": "markdown",
   "metadata": {},
   "source": [
    "关于电影和演员\n",
    "\n",
    "It's about the movies and their actors"
   ]
  },
  {
   "cell_type": "markdown",
   "metadata": {},
   "source": [
    "## 1.2 movie_actor.csv"
   ]
  },
  {
   "cell_type": "code",
   "execution_count": 4,
   "metadata": {},
   "outputs": [
    {
     "name": "stdout",
     "output_type": "stream",
     "text": [
      "rows: 5334\n"
     ]
    },
    {
     "data": {
      "text/html": [
       "<div>\n",
       "<style scoped>\n",
       "    .dataframe tbody tr th:only-of-type {\n",
       "        vertical-align: middle;\n",
       "    }\n",
       "\n",
       "    .dataframe tbody tr th {\n",
       "        vertical-align: top;\n",
       "    }\n",
       "\n",
       "    .dataframe thead th {\n",
       "        text-align: right;\n",
       "    }\n",
       "</style>\n",
       "<table border=\"1\" class=\"dataframe\">\n",
       "  <thead>\n",
       "    <tr style=\"text-align: right;\">\n",
       "      <th></th>\n",
       "      <th>actorid</th>\n",
       "      <th>name</th>\n",
       "      <th>photo</th>\n",
       "    </tr>\n",
       "  </thead>\n",
       "  <tbody>\n",
       "    <tr>\n",
       "      <th>0</th>\n",
       "      <td>nm0941777</td>\n",
       "      <td>Sam Worthington</td>\n",
       "      <td>https://ia.media-imdb.com/images/M/MV5BMTc5NTM...</td>\n",
       "    </tr>\n",
       "    <tr>\n",
       "      <th>1</th>\n",
       "      <td>nm0757855</td>\n",
       "      <td>Zoe Saldana</td>\n",
       "      <td>https://ia.media-imdb.com/images/M/MV5BMjA4NDk...</td>\n",
       "    </tr>\n",
       "    <tr>\n",
       "      <th>2</th>\n",
       "      <td>nm0000244</td>\n",
       "      <td>Sigourney Weaver</td>\n",
       "      <td>https://ia.media-imdb.com/images/M/MV5BMTk1MTc...</td>\n",
       "    </tr>\n",
       "    <tr>\n",
       "      <th>3</th>\n",
       "      <td>nm0002332</td>\n",
       "      <td>Stephen Lang</td>\n",
       "      <td>https://ia.media-imdb.com/images/M/MV5BMjE4NzY...</td>\n",
       "    </tr>\n",
       "    <tr>\n",
       "      <th>4</th>\n",
       "      <td>nm0735442</td>\n",
       "      <td>Michelle Rodriguez</td>\n",
       "      <td>https://ia.media-imdb.com/images/M/MV5BNWQ3NDJ...</td>\n",
       "    </tr>\n",
       "  </tbody>\n",
       "</table>\n",
       "</div>"
      ],
      "text/plain": [
       "     actorid                name  \\\n",
       "0  nm0941777     Sam Worthington   \n",
       "1  nm0757855         Zoe Saldana   \n",
       "2  nm0000244    Sigourney Weaver   \n",
       "3  nm0002332        Stephen Lang   \n",
       "4  nm0735442  Michelle Rodriguez   \n",
       "\n",
       "                                               photo  \n",
       "0  https://ia.media-imdb.com/images/M/MV5BMTc5NTM...  \n",
       "1  https://ia.media-imdb.com/images/M/MV5BMjA4NDk...  \n",
       "2  https://ia.media-imdb.com/images/M/MV5BMTk1MTc...  \n",
       "3  https://ia.media-imdb.com/images/M/MV5BMjE4NzY...  \n",
       "4  https://ia.media-imdb.com/images/M/MV5BNWQ3NDJ...  "
      ]
     },
     "execution_count": 4,
     "metadata": {},
     "output_type": "execute_result"
    }
   ],
   "source": [
    "print('rows:', len(df['actor']))\n",
    "df['actor'].head()"
   ]
  },
  {
   "cell_type": "markdown",
   "metadata": {},
   "source": [
    "关于电影里每个演员的名字和头像\n",
    "\n",
    "It's about the name and photo of every actor, who in the moive."
   ]
  },
  {
   "cell_type": "markdown",
   "metadata": {},
   "source": [
    "## 1.3 movie.csv "
   ]
  },
  {
   "cell_type": "code",
   "execution_count": 5,
   "metadata": {},
   "outputs": [
    {
     "name": "stdout",
     "output_type": "stream",
     "text": [
      "rows: 2926\n"
     ]
    },
    {
     "data": {
      "text/html": [
       "<div>\n",
       "<style scoped>\n",
       "    .dataframe tbody tr th:only-of-type {\n",
       "        vertical-align: middle;\n",
       "    }\n",
       "\n",
       "    .dataframe tbody tr th {\n",
       "        vertical-align: top;\n",
       "    }\n",
       "\n",
       "    .dataframe thead th {\n",
       "        text-align: right;\n",
       "    }\n",
       "</style>\n",
       "<table border=\"1\" class=\"dataframe\">\n",
       "  <thead>\n",
       "    <tr style=\"text-align: right;\">\n",
       "      <th></th>\n",
       "      <th>movieid</th>\n",
       "      <th>title</th>\n",
       "      <th>year</th>\n",
       "      <th>length</th>\n",
       "      <th>genres</th>\n",
       "      <th>rate</th>\n",
       "      <th>poster</th>\n",
       "      <th>plot</th>\n",
       "      <th>trailer</th>\n",
       "    </tr>\n",
       "  </thead>\n",
       "  <tbody>\n",
       "    <tr>\n",
       "      <th>0</th>\n",
       "      <td>tt0499549</td>\n",
       "      <td>Avatar</td>\n",
       "      <td>2009</td>\n",
       "      <td>162</td>\n",
       "      <td>Action|Adventure|Fantasy|Sci-Fi</td>\n",
       "      <td>7.8</td>\n",
       "      <td>https://ia.media-imdb.com/images/M/MV5BMTYwOTE...</td>\n",
       "      <td>A paraplegic marine dispatched to the moon Pan...</td>\n",
       "      <td>https://video-http.media-imdb.com/MV5BNjYxM2Q5...</td>\n",
       "    </tr>\n",
       "    <tr>\n",
       "      <th>1</th>\n",
       "      <td>tt0449088</td>\n",
       "      <td>Pirates of the Caribbean: At World's End</td>\n",
       "      <td>2007</td>\n",
       "      <td>169</td>\n",
       "      <td>Action|Adventure|Fantasy</td>\n",
       "      <td>7.1</td>\n",
       "      <td>https://ia.media-imdb.com/images/M/MV5BMjIyNjk...</td>\n",
       "      <td>Captain Barbossa, Will Turner and Elizabeth Sw...</td>\n",
       "      <td>https://www.totaleclips.com/Player/Bounce.aspx...</td>\n",
       "    </tr>\n",
       "    <tr>\n",
       "      <th>2</th>\n",
       "      <td>tt2379713</td>\n",
       "      <td>Spectre</td>\n",
       "      <td>2015</td>\n",
       "      <td>148</td>\n",
       "      <td>Action|Adventure|Thriller</td>\n",
       "      <td>6.8</td>\n",
       "      <td>https://ia.media-imdb.com/images/M/MV5BOWQ1MDE...</td>\n",
       "      <td>A cryptic message from Bond's past, sends him ...</td>\n",
       "      <td>https://video-http.media-imdb.com/MV5BODkzNTQ3...</td>\n",
       "    </tr>\n",
       "    <tr>\n",
       "      <th>3</th>\n",
       "      <td>tt1345836</td>\n",
       "      <td>The Dark Knight Rises</td>\n",
       "      <td>2012</td>\n",
       "      <td>164</td>\n",
       "      <td>Action|Thriller</td>\n",
       "      <td>8.4</td>\n",
       "      <td>https://ia.media-imdb.com/images/M/MV5BMTk4ODQ...</td>\n",
       "      <td>Eight years after the Joker's reign of anarchy...</td>\n",
       "      <td>https://video-http.media-imdb.com/MV5BNjQ1NTU4...</td>\n",
       "    </tr>\n",
       "    <tr>\n",
       "      <th>4</th>\n",
       "      <td>tt0401729</td>\n",
       "      <td>John Carter</td>\n",
       "      <td>2012</td>\n",
       "      <td>132</td>\n",
       "      <td>Action|Adventure|Sci-Fi</td>\n",
       "      <td>6.6</td>\n",
       "      <td>https://ia.media-imdb.com/images/M/MV5BMDEwZmI...</td>\n",
       "      <td>Transported to Barsoom, a Civil War vet discov...</td>\n",
       "      <td>https://video-http.media-imdb.com/MV5BMjAwMzY1...</td>\n",
       "    </tr>\n",
       "  </tbody>\n",
       "</table>\n",
       "</div>"
      ],
      "text/plain": [
       "     movieid                                     title  year  length  \\\n",
       "0  tt0499549                                    Avatar  2009     162   \n",
       "1  tt0449088  Pirates of the Caribbean: At World's End  2007     169   \n",
       "2  tt2379713                                   Spectre  2015     148   \n",
       "3  tt1345836                     The Dark Knight Rises  2012     164   \n",
       "4  tt0401729                               John Carter  2012     132   \n",
       "\n",
       "                            genres  rate  \\\n",
       "0  Action|Adventure|Fantasy|Sci-Fi   7.8   \n",
       "1         Action|Adventure|Fantasy   7.1   \n",
       "2        Action|Adventure|Thriller   6.8   \n",
       "3                  Action|Thriller   8.4   \n",
       "4          Action|Adventure|Sci-Fi   6.6   \n",
       "\n",
       "                                              poster  \\\n",
       "0  https://ia.media-imdb.com/images/M/MV5BMTYwOTE...   \n",
       "1  https://ia.media-imdb.com/images/M/MV5BMjIyNjk...   \n",
       "2  https://ia.media-imdb.com/images/M/MV5BOWQ1MDE...   \n",
       "3  https://ia.media-imdb.com/images/M/MV5BMTk4ODQ...   \n",
       "4  https://ia.media-imdb.com/images/M/MV5BMDEwZmI...   \n",
       "\n",
       "                                                plot  \\\n",
       "0  A paraplegic marine dispatched to the moon Pan...   \n",
       "1  Captain Barbossa, Will Turner and Elizabeth Sw...   \n",
       "2  A cryptic message from Bond's past, sends him ...   \n",
       "3  Eight years after the Joker's reign of anarchy...   \n",
       "4  Transported to Barsoom, a Civil War vet discov...   \n",
       "\n",
       "                                             trailer  \n",
       "0  https://video-http.media-imdb.com/MV5BNjYxM2Q5...  \n",
       "1  https://www.totaleclips.com/Player/Bounce.aspx...  \n",
       "2  https://video-http.media-imdb.com/MV5BODkzNTQ3...  \n",
       "3  https://video-http.media-imdb.com/MV5BNjQ1NTU4...  \n",
       "4  https://video-http.media-imdb.com/MV5BMjAwMzY1...  "
      ]
     },
     "execution_count": 5,
     "metadata": {},
     "output_type": "execute_result"
    }
   ],
   "source": [
    "print('rows:', len(df['movie']))\n",
    "df['movie'].head()"
   ]
  },
  {
   "cell_type": "markdown",
   "metadata": {},
   "source": [
    "有关于2926部电影的信息\n",
    "\n",
    "There are info of 2926 movies."
   ]
  },
  {
   "cell_type": "markdown",
   "metadata": {},
   "source": [
    "## 1.4 movie_popularity.csv"
   ]
  },
  {
   "cell_type": "code",
   "execution_count": 6,
   "metadata": {},
   "outputs": [
    {
     "name": "stdout",
     "output_type": "stream",
     "text": [
      "rows: 62\n"
     ]
    },
    {
     "data": {
      "text/html": [
       "<div>\n",
       "<style scoped>\n",
       "    .dataframe tbody tr th:only-of-type {\n",
       "        vertical-align: middle;\n",
       "    }\n",
       "\n",
       "    .dataframe tbody tr th {\n",
       "        vertical-align: top;\n",
       "    }\n",
       "\n",
       "    .dataframe thead th {\n",
       "        text-align: right;\n",
       "    }\n",
       "</style>\n",
       "<table border=\"1\" class=\"dataframe\">\n",
       "  <thead>\n",
       "    <tr style=\"text-align: right;\">\n",
       "      <th></th>\n",
       "      <th>id</th>\n",
       "      <th>weight</th>\n",
       "      <th>movieid_id</th>\n",
       "    </tr>\n",
       "  </thead>\n",
       "  <tbody>\n",
       "    <tr>\n",
       "      <th>0</th>\n",
       "      <td>6</td>\n",
       "      <td>1</td>\n",
       "      <td>tt2975590</td>\n",
       "    </tr>\n",
       "    <tr>\n",
       "      <th>1</th>\n",
       "      <td>8</td>\n",
       "      <td>1</td>\n",
       "      <td>tt0240510</td>\n",
       "    </tr>\n",
       "    <tr>\n",
       "      <th>2</th>\n",
       "      <td>9</td>\n",
       "      <td>1</td>\n",
       "      <td>tt1600195</td>\n",
       "    </tr>\n",
       "    <tr>\n",
       "      <th>3</th>\n",
       "      <td>10</td>\n",
       "      <td>1</td>\n",
       "      <td>tt0859163</td>\n",
       "    </tr>\n",
       "    <tr>\n",
       "      <th>4</th>\n",
       "      <td>12</td>\n",
       "      <td>1</td>\n",
       "      <td>tt1170358</td>\n",
       "    </tr>\n",
       "  </tbody>\n",
       "</table>\n",
       "</div>"
      ],
      "text/plain": [
       "   id  weight movieid_id\n",
       "0   6       1  tt2975590\n",
       "1   8       1  tt0240510\n",
       "2   9       1  tt1600195\n",
       "3  10       1  tt0859163\n",
       "4  12       1  tt1170358"
      ]
     },
     "execution_count": 6,
     "metadata": {},
     "output_type": "execute_result"
    }
   ],
   "source": [
    "print('rows:', len(df['popularity']))\n",
    "df['popularity'].head()"
   ]
  },
  {
   "cell_type": "markdown",
   "metadata": {},
   "source": [
    "实际上，有62部最受欢迎的电影，接下来我们就挑选出这62部电影基于py2neo进行知识图谱的构建。说实话我不知道这个id是干啥用的，所以待会就不用了\n",
    "\n",
    "In fact, there are 62 movies, that is the most popular, and next, let's select them to build the knowledge graph base on py2neo.\n",
    "I don't know how to use the 'id', so then don't use it."
   ]
  },
  {
   "cell_type": "markdown",
   "metadata": {},
   "source": [
    "## 1.5 user_user.csv"
   ]
  },
  {
   "cell_type": "code",
   "execution_count": 7,
   "metadata": {},
   "outputs": [
    {
     "name": "stdout",
     "output_type": "stream",
     "text": [
      "rows: 62\n"
     ]
    },
    {
     "data": {
      "text/html": [
       "<div>\n",
       "<style scoped>\n",
       "    .dataframe tbody tr th:only-of-type {\n",
       "        vertical-align: middle;\n",
       "    }\n",
       "\n",
       "    .dataframe tbody tr th {\n",
       "        vertical-align: top;\n",
       "    }\n",
       "\n",
       "    .dataframe thead th {\n",
       "        text-align: right;\n",
       "    }\n",
       "</style>\n",
       "<table border=\"1\" class=\"dataframe\">\n",
       "  <thead>\n",
       "    <tr style=\"text-align: right;\">\n",
       "      <th></th>\n",
       "      <th>id</th>\n",
       "    </tr>\n",
       "  </thead>\n",
       "  <tbody>\n",
       "    <tr>\n",
       "      <th>0</th>\n",
       "      <td>6</td>\n",
       "    </tr>\n",
       "    <tr>\n",
       "      <th>1</th>\n",
       "      <td>8</td>\n",
       "    </tr>\n",
       "    <tr>\n",
       "      <th>2</th>\n",
       "      <td>9</td>\n",
       "    </tr>\n",
       "    <tr>\n",
       "      <th>3</th>\n",
       "      <td>10</td>\n",
       "    </tr>\n",
       "    <tr>\n",
       "      <th>4</th>\n",
       "      <td>12</td>\n",
       "    </tr>\n",
       "  </tbody>\n",
       "</table>\n",
       "</div>"
      ],
      "text/plain": [
       "   id\n",
       "0   6\n",
       "1   8\n",
       "2   9\n",
       "3  10\n",
       "4  12"
      ]
     },
     "execution_count": 7,
     "metadata": {},
     "output_type": "execute_result"
    }
   ],
   "source": [
    "print('rows:', len(df['user']))\n",
    "df['user'].head()"
   ]
  },
  {
   "cell_type": "markdown",
   "metadata": {},
   "source": [
    "这是上一个csv的id字段，也不使用\n",
    "\n",
    "it's the'id' in last csv , don't use id too"
   ]
  },
  {
   "cell_type": "markdown",
   "metadata": {},
   "source": [
    "# 2. 数据预处理 Data preprocessing"
   ]
  },
  {
   "cell_type": "markdown",
   "metadata": {},
   "source": [
    "## 2.1 选择受欢迎的电影 Select the popularity movies"
   ]
  },
  {
   "cell_type": "code",
   "execution_count": 8,
   "metadata": {},
   "outputs": [
    {
     "data": {
      "text/html": [
       "<div>\n",
       "<style scoped>\n",
       "    .dataframe tbody tr th:only-of-type {\n",
       "        vertical-align: middle;\n",
       "    }\n",
       "\n",
       "    .dataframe tbody tr th {\n",
       "        vertical-align: top;\n",
       "    }\n",
       "\n",
       "    .dataframe thead th {\n",
       "        text-align: right;\n",
       "    }\n",
       "</style>\n",
       "<table border=\"1\" class=\"dataframe\">\n",
       "  <thead>\n",
       "    <tr style=\"text-align: right;\">\n",
       "      <th></th>\n",
       "      <th>movieid</th>\n",
       "      <th>title</th>\n",
       "      <th>year</th>\n",
       "      <th>length</th>\n",
       "      <th>genres</th>\n",
       "      <th>rate</th>\n",
       "      <th>poster</th>\n",
       "      <th>plot</th>\n",
       "      <th>trailer</th>\n",
       "    </tr>\n",
       "  </thead>\n",
       "  <tbody>\n",
       "    <tr>\n",
       "      <th>0</th>\n",
       "      <td>tt0499549</td>\n",
       "      <td>Avatar</td>\n",
       "      <td>2009</td>\n",
       "      <td>162</td>\n",
       "      <td>Action|Adventure|Fantasy|Sci-Fi</td>\n",
       "      <td>7.8</td>\n",
       "      <td>https://ia.media-imdb.com/images/M/MV5BMTYwOTE...</td>\n",
       "      <td>A paraplegic marine dispatched to the moon Pan...</td>\n",
       "      <td>https://video-http.media-imdb.com/MV5BNjYxM2Q5...</td>\n",
       "    </tr>\n",
       "    <tr>\n",
       "      <th>1</th>\n",
       "      <td>tt0449088</td>\n",
       "      <td>Pirates of the Caribbean: At World's End</td>\n",
       "      <td>2007</td>\n",
       "      <td>169</td>\n",
       "      <td>Action|Adventure|Fantasy</td>\n",
       "      <td>7.1</td>\n",
       "      <td>https://ia.media-imdb.com/images/M/MV5BMjIyNjk...</td>\n",
       "      <td>Captain Barbossa, Will Turner and Elizabeth Sw...</td>\n",
       "      <td>https://www.totaleclips.com/Player/Bounce.aspx...</td>\n",
       "    </tr>\n",
       "    <tr>\n",
       "      <th>3</th>\n",
       "      <td>tt1345836</td>\n",
       "      <td>The Dark Knight Rises</td>\n",
       "      <td>2012</td>\n",
       "      <td>164</td>\n",
       "      <td>Action|Thriller</td>\n",
       "      <td>8.4</td>\n",
       "      <td>https://ia.media-imdb.com/images/M/MV5BMTk4ODQ...</td>\n",
       "      <td>Eight years after the Joker's reign of anarchy...</td>\n",
       "      <td>https://video-http.media-imdb.com/MV5BNjQ1NTU4...</td>\n",
       "    </tr>\n",
       "    <tr>\n",
       "      <th>4</th>\n",
       "      <td>tt0401729</td>\n",
       "      <td>John Carter</td>\n",
       "      <td>2012</td>\n",
       "      <td>132</td>\n",
       "      <td>Action|Adventure|Sci-Fi</td>\n",
       "      <td>6.6</td>\n",
       "      <td>https://ia.media-imdb.com/images/M/MV5BMDEwZmI...</td>\n",
       "      <td>Transported to Barsoom, a Civil War vet discov...</td>\n",
       "      <td>https://video-http.media-imdb.com/MV5BMjAwMzY1...</td>\n",
       "    </tr>\n",
       "    <tr>\n",
       "      <th>8</th>\n",
       "      <td>tt0417741</td>\n",
       "      <td>Harry Potter and the Half-Blood Prince</td>\n",
       "      <td>2009</td>\n",
       "      <td>153</td>\n",
       "      <td>Adventure|Family|Fantasy|Mystery</td>\n",
       "      <td>7.6</td>\n",
       "      <td>https://ia.media-imdb.com/images/M/MV5BNzU3NDg...</td>\n",
       "      <td>As Harry Potter begins his sixth year at Hogwa...</td>\n",
       "      <td>https://video-http.media-imdb.com/MV5BMTcxNjEy...</td>\n",
       "    </tr>\n",
       "    <tr>\n",
       "      <th>...</th>\n",
       "      <td>...</td>\n",
       "      <td>...</td>\n",
       "      <td>...</td>\n",
       "      <td>...</td>\n",
       "      <td>...</td>\n",
       "      <td>...</td>\n",
       "      <td>...</td>\n",
       "      <td>...</td>\n",
       "      <td>...</td>\n",
       "    </tr>\n",
       "    <tr>\n",
       "      <th>2729</th>\n",
       "      <td>tt1772288</td>\n",
       "      <td>Danny Collins</td>\n",
       "      <td>2015</td>\n",
       "      <td>106</td>\n",
       "      <td>Comedy|Drama|Music</td>\n",
       "      <td>7.0</td>\n",
       "      <td>https://ia.media-imdb.com/images/M/MV5BNDk5NTY...</td>\n",
       "      <td>An aging rock star decides to change his life ...</td>\n",
       "      <td>https://video-http.media-imdb.com/MV5BMTYyMjA4...</td>\n",
       "    </tr>\n",
       "    <tr>\n",
       "      <th>2798</th>\n",
       "      <td>tt0078748</td>\n",
       "      <td>Alien</td>\n",
       "      <td>1979</td>\n",
       "      <td>116</td>\n",
       "      <td>Horror|Sci-Fi</td>\n",
       "      <td>8.5</td>\n",
       "      <td>https://ia.media-imdb.com/images/M/MV5BNDNhN2I...</td>\n",
       "      <td>After a space merchant vessel perceives an unk...</td>\n",
       "      <td>https://video-http.media-imdb.com/MV5BNWM5MWE3...</td>\n",
       "    </tr>\n",
       "    <tr>\n",
       "      <th>2829</th>\n",
       "      <td>tt1068678</td>\n",
       "      <td>Veronika Decides to Die</td>\n",
       "      <td>2009</td>\n",
       "      <td>103</td>\n",
       "      <td>Drama|Romance</td>\n",
       "      <td>6.5</td>\n",
       "      <td>https://ia.media-imdb.com/images/M/MV5BMTQzNTk...</td>\n",
       "      <td>After a frantic suicide attempt, Veronika awak...</td>\n",
       "      <td>https://www.totaleclips.com/Player/Bounce.aspx...</td>\n",
       "    </tr>\n",
       "    <tr>\n",
       "      <th>2854</th>\n",
       "      <td>tt0110912</td>\n",
       "      <td>Pulp Fiction</td>\n",
       "      <td>1994</td>\n",
       "      <td>154</td>\n",
       "      <td>Crime|Drama</td>\n",
       "      <td>8.9</td>\n",
       "      <td>https://ia.media-imdb.com/images/M/MV5BMTkxMTA...</td>\n",
       "      <td>The lives of two mob hitmen, a boxer, a gangst...</td>\n",
       "      <td>https://video-http.media-imdb.com/MV5BMDFmMDcw...</td>\n",
       "    </tr>\n",
       "    <tr>\n",
       "      <th>2902</th>\n",
       "      <td>tt0094625</td>\n",
       "      <td>Akira</td>\n",
       "      <td>1988</td>\n",
       "      <td>124</td>\n",
       "      <td>Action|Animation|Sci-Fi</td>\n",
       "      <td>8.1</td>\n",
       "      <td>https://ia.media-imdb.com/images/M/MV5BM2ZiZTk...</td>\n",
       "      <td>A secret military project endangers Neo-Tokyo ...</td>\n",
       "      <td>https://www.totaleclips.com/Player/Bounce.aspx...</td>\n",
       "    </tr>\n",
       "  </tbody>\n",
       "</table>\n",
       "<p>62 rows × 9 columns</p>\n",
       "</div>"
      ],
      "text/plain": [
       "        movieid                                     title  year  length  \\\n",
       "0     tt0499549                                    Avatar  2009     162   \n",
       "1     tt0449088  Pirates of the Caribbean: At World's End  2007     169   \n",
       "3     tt1345836                     The Dark Knight Rises  2012     164   \n",
       "4     tt0401729                               John Carter  2012     132   \n",
       "8     tt0417741    Harry Potter and the Half-Blood Prince  2009     153   \n",
       "...         ...                                       ...   ...     ...   \n",
       "2729  tt1772288                             Danny Collins  2015     106   \n",
       "2798  tt0078748                                     Alien  1979     116   \n",
       "2829  tt1068678                   Veronika Decides to Die  2009     103   \n",
       "2854  tt0110912                              Pulp Fiction  1994     154   \n",
       "2902  tt0094625                                     Akira  1988     124   \n",
       "\n",
       "                                genres  rate  \\\n",
       "0      Action|Adventure|Fantasy|Sci-Fi   7.8   \n",
       "1             Action|Adventure|Fantasy   7.1   \n",
       "3                      Action|Thriller   8.4   \n",
       "4              Action|Adventure|Sci-Fi   6.6   \n",
       "8     Adventure|Family|Fantasy|Mystery   7.6   \n",
       "...                                ...   ...   \n",
       "2729                Comedy|Drama|Music   7.0   \n",
       "2798                     Horror|Sci-Fi   8.5   \n",
       "2829                     Drama|Romance   6.5   \n",
       "2854                       Crime|Drama   8.9   \n",
       "2902           Action|Animation|Sci-Fi   8.1   \n",
       "\n",
       "                                                 poster  \\\n",
       "0     https://ia.media-imdb.com/images/M/MV5BMTYwOTE...   \n",
       "1     https://ia.media-imdb.com/images/M/MV5BMjIyNjk...   \n",
       "3     https://ia.media-imdb.com/images/M/MV5BMTk4ODQ...   \n",
       "4     https://ia.media-imdb.com/images/M/MV5BMDEwZmI...   \n",
       "8     https://ia.media-imdb.com/images/M/MV5BNzU3NDg...   \n",
       "...                                                 ...   \n",
       "2729  https://ia.media-imdb.com/images/M/MV5BNDk5NTY...   \n",
       "2798  https://ia.media-imdb.com/images/M/MV5BNDNhN2I...   \n",
       "2829  https://ia.media-imdb.com/images/M/MV5BMTQzNTk...   \n",
       "2854  https://ia.media-imdb.com/images/M/MV5BMTkxMTA...   \n",
       "2902  https://ia.media-imdb.com/images/M/MV5BM2ZiZTk...   \n",
       "\n",
       "                                                   plot  \\\n",
       "0     A paraplegic marine dispatched to the moon Pan...   \n",
       "1     Captain Barbossa, Will Turner and Elizabeth Sw...   \n",
       "3     Eight years after the Joker's reign of anarchy...   \n",
       "4     Transported to Barsoom, a Civil War vet discov...   \n",
       "8     As Harry Potter begins his sixth year at Hogwa...   \n",
       "...                                                 ...   \n",
       "2729  An aging rock star decides to change his life ...   \n",
       "2798  After a space merchant vessel perceives an unk...   \n",
       "2829  After a frantic suicide attempt, Veronika awak...   \n",
       "2854  The lives of two mob hitmen, a boxer, a gangst...   \n",
       "2902  A secret military project endangers Neo-Tokyo ...   \n",
       "\n",
       "                                                trailer  \n",
       "0     https://video-http.media-imdb.com/MV5BNjYxM2Q5...  \n",
       "1     https://www.totaleclips.com/Player/Bounce.aspx...  \n",
       "3     https://video-http.media-imdb.com/MV5BNjQ1NTU4...  \n",
       "4     https://video-http.media-imdb.com/MV5BMjAwMzY1...  \n",
       "8     https://video-http.media-imdb.com/MV5BMTcxNjEy...  \n",
       "...                                                 ...  \n",
       "2729  https://video-http.media-imdb.com/MV5BMTYyMjA4...  \n",
       "2798  https://video-http.media-imdb.com/MV5BNWM5MWE3...  \n",
       "2829  https://www.totaleclips.com/Player/Bounce.aspx...  \n",
       "2854  https://video-http.media-imdb.com/MV5BMDFmMDcw...  \n",
       "2902  https://www.totaleclips.com/Player/Bounce.aspx...  \n",
       "\n",
       "[62 rows x 9 columns]"
      ]
     },
     "execution_count": 8,
     "metadata": {},
     "output_type": "execute_result"
    }
   ],
   "source": [
    "list_mid = df['popularity']['movieid_id']\n",
    "\n",
    "# 查找受欢迎的电影信息\n",
    "# Find the movies which is popularity \n",
    "df_popularity_movie = df['movie'][df['movie']['movieid'].isin(list_mid)]\n",
    "df_popularity_movie"
   ]
  },
  {
   "cell_type": "code",
   "execution_count": 10,
   "metadata": {},
   "outputs": [
    {
     "name": "stdout",
     "output_type": "stream",
     "text": [
      "rows: 62\n"
     ]
    },
    {
     "data": {
      "text/plain": [
       "('tt0094625',\n",
       " {'movieid': 'tt0094625',\n",
       "  'title': 'Akira',\n",
       "  'year': 1988,\n",
       "  'length': 124,\n",
       "  'genres': 'Action|Animation|Sci-Fi',\n",
       "  'rate': 8.1,\n",
       "  'poster': 'https://ia.media-imdb.com/images/M/MV5BM2ZiZTk1ODgtMTZkNS00NTYxLWIxZTUtNWExZGYwZTRjODViXkEyXkFqcGdeQXVyMTE2MzA3MDM@._V1_.jpg',\n",
       "  'plot': 'A secret military project endangers Neo-Tokyo when it turns a biker gang member into a rampaging psychic psychopath that only two teenagers and a group of psychics can stop.',\n",
       "  'trailer': 'https://www.totaleclips.com/Player/Bounce.aspx?eclipid=e128673&bitrateid=449&vendorid=102&type=.mp4'})"
      ]
     },
     "execution_count": 10,
     "metadata": {},
     "output_type": "execute_result"
    }
   ],
   "source": [
    "# 将DataFrame格式转化为dict，到时候方便插入Neo4j\n",
    "# make DataFrame to Dict, in order to insert neo4j\n",
    "dict_movie = {}\n",
    "# 获取除了 movieid 的其他列\n",
    "# get the cols expect 'movieid'    \n",
    "cols = [col for col in df_popularity_movie.columns if col != 'movieid']\n",
    "\n",
    "for i in range(len(df_popularity_movie)):\n",
    "    row = df_popularity_movie.iloc[i]\n",
    "\n",
    "    dict_movie.update({row['movieid'] : row.to_dict()})\n",
    "\n",
    "# 显示字典里的随机一个数据\n",
    "# show one random\n",
    "print('rows:', len(dict_movie))\n",
    "temp = dict_movie.popitem()\n",
    "dict_movie.update({temp[0]:temp[1]})\n",
    "temp"
   ]
  },
  {
   "cell_type": "markdown",
   "metadata": {},
   "source": []
  },
  {
   "cell_type": "markdown",
   "metadata": {},
   "source": [
    "## 2.2 查找每一部受欢迎电影的所有演员 Select all of the actors who act in the popularity movie"
   ]
  },
  {
   "cell_type": "code",
   "execution_count": 11,
   "metadata": {},
   "outputs": [
    {
     "name": "stdout",
     "output_type": "stream",
     "text": [
      "rows:  61\n"
     ]
    },
    {
     "data": {
      "text/plain": [
       "('tt0094625', ['nm0412628', 'nm0765815', 'nm0468708', 'nm0312656'])"
      ]
     },
     "execution_count": 11,
     "metadata": {},
     "output_type": "execute_result"
    }
   ],
   "source": [
    "dict_actor_movie = {}\n",
    "for mid in df_popularity_movie['movieid']:\n",
    "    flag = df['actor_movie']['movieid_id'].eq(mid)\n",
    "    actors = df['actor_movie'][flag]['actorid_id'].to_list()\n",
    "    dict_actor_movie.update({mid : actors})\n",
    "# 显示字典里的随机一个数据\n",
    "# show one random\n",
    "temp = dict_actor_movie.popitem()\n",
    "print('rows: ' , len(dict_actor_movie))\n",
    "dict_actor_movie.update({temp[0]:temp[1]})\n",
    "temp"
   ]
  },
  {
   "cell_type": "markdown",
   "metadata": {},
   "source": []
  },
  {
   "cell_type": "markdown",
   "metadata": {},
   "source": [
    "## 2.3 查找热门电影里每个演员的信息 Select the actors' info "
   ]
  },
  {
   "cell_type": "code",
   "execution_count": 12,
   "metadata": {},
   "outputs": [
    {
     "name": "stdout",
     "output_type": "stream",
     "text": [
      "rows:  62\n"
     ]
    },
    {
     "data": {
      "text/plain": [
       "('nm0293550',\n",
       " {'actorid': 'nm0293550',\n",
       "  'name': 'Paul Freeman',\n",
       "  'photo': 'https://ia.media-imdb.com/images/M/MV5BMjA4Mzc2NjU2N15BMl5BanBnXkFtZTcwNzYzMDAxMw@@._V1_.jpg'})"
      ]
     },
     "execution_count": 12,
     "metadata": {},
     "output_type": "execute_result"
    }
   ],
   "source": [
    "dict_actor = {}\n",
    "actors = set()\n",
    "for ac in dict_actor_movie.values():\n",
    "    for actor in ac:\n",
    "        actors.add(actor)\n",
    "for aid in actors:\n",
    "    flag = (df['actor']['actorid'] == aid)\n",
    "    row = df['actor'][flag].iloc[0]\n",
    "    dict_actor.update({aid: row.to_dict()})\n",
    "# 显示字典里的随机一个数据\n",
    "# show one random\n",
    "temp = dict_actor.popitem()\n",
    "print('rows: ' , len(dict_actor_movie))\n",
    "dict_actor.update({temp[0]:temp[1]})\n",
    "temp"
   ]
  },
  {
   "cell_type": "markdown",
   "metadata": {},
   "source": [
    "# 三、Py2Neo CRUD"
   ]
  },
  {
   "cell_type": "markdown",
   "metadata": {},
   "source": [
    "## 3.1 连接 Connnect Neo4j"
   ]
  },
  {
   "cell_type": "code",
   "execution_count": 14,
   "metadata": {},
   "outputs": [
    {
     "name": "stdout",
     "output_type": "stream",
     "text": [
      "neo4j info: Graph('http://localhost:7474')\n"
     ]
    }
   ],
   "source": [
    "from py2neo import Graph\n",
    "url = \"http://localhost:7474\"\n",
    "username = \"neo4j\"\n",
    "password = \"123456\"\n",
    "graph = Graph(url, auth=(username, password))\n",
    "print(\"neo4j info: {}\".format(str(graph)))"
   ]
  },
  {
   "cell_type": "markdown",
   "metadata": {},
   "source": [
    "## 3.2 插入电影和演员节点 Insert Node about Movie and Actor"
   ]
  },
  {
   "cell_type": "code",
   "execution_count": 220,
   "metadata": {},
   "outputs": [],
   "source": [
    "from py2neo import Graph, Node, Subgraph\n",
    "import time \n",
    "s_time = time.time()\n",
    "\n",
    "node_list = []\n",
    "\n",
    "graph.delete_all()\n",
    "\n",
    "for mid, movie in dict_movie.items():\n",
    "    node_list.append(Node(\"movie\", **movie))\n",
    "for aid, actor in dict_actor.items():\n",
    "    node_list.append(Node(\"actor\", **actor))\n",
    "graph.create(subgraph=Subgraph(node_list))"
   ]
  },
  {
   "cell_type": "code",
   "execution_count": 224,
   "metadata": {},
   "outputs": [
    {
     "name": "stdout",
     "output_type": "stream",
     "text": [
      "movie:  62\n",
      "actor:  240\n"
     ]
    }
   ],
   "source": [
    "print('movie: ', graph.nodes.match(\"movie\").count())\n",
    "print('actor: ', graph.nodes.match('actor').count())"
   ]
  },
  {
   "cell_type": "markdown",
   "metadata": {},
   "source": [
    "## 3.3 建立电影和演员之间的联系 (Build the relationship with actor and movie)"
   ]
  },
  {
   "cell_type": "code",
   "execution_count": 253,
   "metadata": {},
   "outputs": [
    {
     "name": "stdout",
     "output_type": "stream",
     "text": [
      "[INFO] >> created 50 relations\n",
      "[INFO] >> created 50 relations\n",
      "[INFO] >> created 50 relations\n",
      "[INFO] >> created 50 relations\n",
      "[INFO] >> created 50 relations\n",
      "[INFO] >> created 44 relations\n"
     ]
    }
   ],
   "source": [
    "from py2neo import NodeMatcher, Relationship\n",
    "node_matcher = NodeMatcher(graph)\n",
    "list_rel = []\n",
    "for mid, actors in dict_actor_movie.items(): \n",
    "    node_movie = node_matcher.match(\"movie\", movieid=mid).first()\n",
    "    if node_movie != None:\n",
    "        for actor in actors:\n",
    "            node_actor = node_matcher.match(\"actor\", actorid=actor).first()\n",
    "            if node_actor != None:\n",
    "                list_rel.append(Relationship(node_actor, \"acted\", node_movie, name='acted'))\n",
    "\n",
    "# 批量建立\n",
    "# batch build \n",
    "once = 50\n",
    "maxi = len(list_rel)\n",
    "for i in range(0, maxi, once):\n",
    "    subgraph = Subgraph(relationships=list_rel[i:i+once])\n",
    "    graph.separate(subgraph)\n",
    "    graph.create(subgraph)\n",
    "    print(f'[INFO] >> created {len(subgraph)} relations')"
   ]
  },
  {
   "cell_type": "markdown",
   "metadata": {},
   "source": [
    "`result `\n",
    "<img src=\"./images/1.png\">"
   ]
  },
  {
   "cell_type": "markdown",
   "metadata": {},
   "source": [
    "## 4.1 数据分析 Data Analysis"
   ]
  },
  {
   "cell_type": "code",
   "execution_count": 18,
   "metadata": {},
   "outputs": [
    {
     "data": {
      "text/plain": [
       "acted(Node('actor', actorid='nm1940449', name='Andrew Garfield', photo='https://ia.media-imdb.com/images/M/MV5BMjE2MjI2OTk1OV5BMl5BanBnXkFtZTgwNTY1NzM4MDI@._V1_.jpg'), Node('movie', genres='Action|Adventure|Fantasy|Sci-Fi', length=142, movieid='tt1872181', plot='When New York is put under siege by Oscorp, it is up to Spider-Man to save the city he swore to protect as well as his loved ones.', poster='https://ia.media-imdb.com/images/M/MV5BOTA5NDYxNTg0OV5BMl5BanBnXkFtZTgwODE5NzU1MTE@._V1_.jpg', rate=6.7, title='The Amazing Spider-Man 2', trailer='https://video-http.media-imdb.com/MV5BNTc4NzM0MzI4NF5BMTFeQXdlYm1eQW1lODA4Mzk5MjQxMQ@@.webm?Expires=1524560529&Signature=hZZfFnVkUhkrySvTkl-6xwTT96Gomz87BSlOmAAivkc9ZuREi4S82~XRKpQkLZTGBjQfAjeYXh12gMbyzghvbdhsIuKEay-KHGdI3-hgPqhMrr7IrUYcls33vuPgBsxwMQ0IMLeUYIX54uNNPfurZovVlZxf6bUm62T4PAPjGm4_&Key-Pair-Id=APKAILW5I44IHKUN2DYA', year=2014), name='acted')"
      ]
     },
     "execution_count": 18,
     "metadata": {},
     "output_type": "execute_result"
    }
   ],
   "source": [
    "from py2neo import RelationshipMatcher\n",
    "rmatcher = RelationshipMatcher(graph)\n",
    "\n",
    "\n",
    "# rmatcher.match().first()\n"
   ]
  },
  {
   "cell_type": "code",
   "execution_count": 230,
   "metadata": {},
   "outputs": [
    {
     "name": "stdout",
     "output_type": "stream",
     "text": [
      "你好，我爱你！\n",
      "I miss you\n"
     ]
    }
   ],
   "source": [
    "from translate import Translator\n",
    "\n",
    "# 以下是将简单句子从英语翻译中文\n",
    "title='hello, i like you'\n",
    "translator = Translator(to_lang=\"chinese\")\n",
    "translation = translator.translate(title)\n",
    "print(translation)\n",
    "\n",
    "# 在任何两种语言之间，中文翻译成英文\n",
    "translator = Translator(from_lang=\"chinese\", to_lang=\"english\")\n",
    "translation = translator.translate(\"我想你\")\n",
    "print(translation)\n"
   ]
  },
  {
   "cell_type": "code",
   "execution_count": null,
   "metadata": {},
   "outputs": [],
   "source": []
  }
 ],
 "metadata": {
  "interpreter": {
   "hash": "5332dda23e929b2fdb3793caa38ce15b54fc31b9110c0abaa6a7ec88307e4dae"
  },
  "kernelspec": {
   "display_name": "Python 3.9.7 ('base')",
   "language": "python",
   "name": "python3"
  },
  "language_info": {
   "codemirror_mode": {
    "name": "ipython",
    "version": 3
   },
   "file_extension": ".py",
   "mimetype": "text/x-python",
   "name": "python",
   "nbconvert_exporter": "python",
   "pygments_lexer": "ipython3",
   "version": "3.9.7"
  },
  "orig_nbformat": 4
 },
 "nbformat": 4,
 "nbformat_minor": 2
}
